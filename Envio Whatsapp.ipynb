{
 "cells": [
  {
   "cell_type": "markdown",
   "id": "cf42a93c",
   "metadata": {},
   "source": [
    "### Cuidados!\n",
    " \n",
    "1. Whatsapp não gosta de nenhum tipo de automação\n",
    "2. Isso pode dar merda, já to avisando\n",
    "3. Isso não é o uso da API oficial do Whatsapp, o próprio whatsapp tem uma API oficial. Se o seu objetivo é fazer envio em massa ou criar aqueles robozinhos que respondem automaticamente no whatsapp, então use a API oficial\n",
    "4. Meu objetivo é 100% educacional\n",
    "\n",
    "### Dito isso, bora automatizar o envio de mensagens no Whatsapp\n",
    "\n",
    "- Vamos usar o Selenium (vídeo da configuração na descrição)\n",
    "- Temos 1 alternativa muito boa:\n",
    "- Usar o https://web.whatsapp.com/send?phone=numero&text=texto (mais fácil, mais seguro, mas mais demorado)\n"
   ]
  },
  {
   "cell_type": "code",
   "execution_count": 133,
   "id": "5ec2043b",
   "metadata": {},
   "outputs": [],
   "source": [
    "#bibliotecas para abrir o google chrome\n",
    "from selenium import webdriver\n",
    "from selenium.webdriver.common.keys import Keys\n",
    "from selenium.webdriver.common.by import By\n",
    "import time\n",
    "import os\n",
    "#abrir o navegador diretamente no no WhatsApp na leitura do QRCode\n",
    "navegador = webdriver.Chrome()\n",
    "navegador.get(\" https://web.whatsapp.com\")\n",
    "\n",
    "#esperar o whatsapp carregar\n",
    "while len(navegador.find_elements(By.ID, \"side\")) < 1: # lista for vazi -> que o elemento não foi existe ainda\n",
    "    time.sleep(1)\n",
    "time.sleep(2) #só garantia"
   ]
  },
  {
   "cell_type": "code",
   "execution_count": 134,
   "id": "73522134",
   "metadata": {},
   "outputs": [
    {
     "data": {
      "text/html": [
       "<div>\n",
       "<style scoped>\n",
       "    .dataframe tbody tr th:only-of-type {\n",
       "        vertical-align: middle;\n",
       "    }\n",
       "\n",
       "    .dataframe tbody tr th {\n",
       "        vertical-align: top;\n",
       "    }\n",
       "\n",
       "    .dataframe thead th {\n",
       "        text-align: right;\n",
       "    }\n",
       "</style>\n",
       "<table border=\"1\" class=\"dataframe\">\n",
       "  <thead>\n",
       "    <tr style=\"text-align: right;\">\n",
       "      <th></th>\n",
       "      <th>nome</th>\n",
       "      <th>mensagem</th>\n",
       "      <th>arquivo</th>\n",
       "    </tr>\n",
       "  </thead>\n",
       "  <tbody>\n",
       "    <tr>\n",
       "      <th>0</th>\n",
       "      <td>Mel</td>\n",
       "      <td>Fulano, Esta é uma mensagem automatica, por fa...</td>\n",
       "      <td>N</td>\n",
       "    </tr>\n",
       "    <tr>\n",
       "      <th>1</th>\n",
       "      <td>Mayara</td>\n",
       "      <td>Fulano, Esta é uma mensagem automatica, por fa...</td>\n",
       "      <td>N</td>\n",
       "    </tr>\n",
       "    <tr>\n",
       "      <th>2</th>\n",
       "      <td>Paulo</td>\n",
       "      <td>Fulano, Esta é uma mensagem automatica, por fa...</td>\n",
       "      <td>pythonimpressionador.png</td>\n",
       "    </tr>\n",
       "  </tbody>\n",
       "</table>\n",
       "</div>"
      ],
      "text/plain": [
       "     nome                                           mensagem  \\\n",
       "0     Mel  Fulano, Esta é uma mensagem automatica, por fa...   \n",
       "1  Mayara  Fulano, Esta é uma mensagem automatica, por fa...   \n",
       "2   Paulo  Fulano, Esta é uma mensagem automatica, por fa...   \n",
       "\n",
       "                    arquivo  \n",
       "0                         N  \n",
       "1                         N  \n",
       "2  pythonimpressionador.png  "
      ]
     },
     "metadata": {},
     "output_type": "display_data"
    }
   ],
   "source": [
    "# o whatsapp ja carregou\n",
    "#importar a base de dados\n",
    "import pandas as pd\n",
    "\n",
    "tabela = pd.read_excel(\"Envios.xlsx\")\n",
    "# os colchetes são para selecionar as colunas\n",
    "display(tabela[[\"nome\",\"mensagem\",\"arquivo\"]])"
   ]
  },
  {
   "cell_type": "code",
   "execution_count": 135,
   "id": "bbaaa74b-50b8-4dfa-b997-9ff8ac595e56",
   "metadata": {},
   "outputs": [],
   "source": [
    "# importar biblioteca para converter o texto no formato de link\n",
    "import urllib\n",
    "\n",
    "# percorrer dentro de cada linha da tabela\n",
    "for linha in tabela.index:\n",
    "    #enviar uma mensagem para a pessoa\n",
    "    nome = tabela.loc[linha,\"nome\"]\n",
    "    mensagem= tabela.loc[linha, \"mensagem\"]\n",
    "    arquivo= tabela.loc[linha, \"arquivo\"]\n",
    "    telefone= tabela.loc[linha, \"telefone\"]\n",
    "\n",
    "    texto = mensagem.replace(\"Fulano\", nome)\n",
    "    texto = urllib.parse.quote(texto)\n",
    "   \n",
    "    #enviar a mensagem\n",
    "    link =f\"https://web.whatsapp.com/send?phone={telefone}&text={texto}\"\n",
    "\n",
    "    navegador.get(link)\n",
    "# esperar a tela do whatsapp carregar -> espera um elemento na tela ja carregada aparecer\n",
    "    while len(navegador.find_elements(By.ID, \"side\")) < 1: # lista for vazi -> que o elemento não foi existe ainda\n",
    "        time.sleep(1)\n",
    "    time.sleep(2) #só garantia\n",
    "\n",
    "    #verificar se o numero do telefone é invalido\n",
    "    if len(navegador.find_elements(By.XPATH, '//*[@id=\"app\"]/div/span[2]/div/span/div/div/div/div/div/div[1]')) < 1:\n",
    "        # enviar a mensagem\n",
    "        # selecionar o botão de enviar a mensagem\n",
    "        navegador.find_element(By.XPATH,'//*[@id=\"main\"]/footer/div[1]/div/span[2]/div/div[2]/div[2]/button/span').click()\n",
    "        \n",
    "        if arquivo != \"N\":\n",
    "            caminho_completo = os.path.abspath(f\"arquivos/{arquivo}\")\n",
    "            navegador.find_element(By.XPATH,'//*[@id=\"main\"]/footer/div[1]/div/span[2]/div/div[1]/div[2]/div/div/div/span').click()\n",
    "            navegador.find_element(By.XPATH,'//*[@id=\"main\"]/footer/div[1]/div/span[2]/div/div[1]/div[2]/div/span/div/ul/div/div[1]/li/div/input').send_keys(caminho_completo)\n",
    "            \n",
    "            time.sleep(2)\n",
    "            \n",
    "            navegador.find_element(By.XPATH,'//*[@id=\"app\"]/div/div[2]/div[2]/div[2]/span/div/div/div/div[2]/div/div[2]/div[2]/div/div/span').click()\n",
    "        time.sleep(5)"
   ]
  },
  {
   "cell_type": "code",
   "execution_count": null,
   "id": "65029fd2-8c3c-434d-af46-2f90ecc3f643",
   "metadata": {},
   "outputs": [],
   "source": []
  },
  {
   "cell_type": "code",
   "execution_count": null,
   "id": "1254e941-b657-41e3-bc98-741f405ab18b",
   "metadata": {},
   "outputs": [],
   "source": []
  }
 ],
 "metadata": {
  "kernelspec": {
   "display_name": "Python 3 (ipykernel)",
   "language": "python",
   "name": "python3"
  },
  "language_info": {
   "codemirror_mode": {
    "name": "ipython",
    "version": 3
   },
   "file_extension": ".py",
   "mimetype": "text/x-python",
   "name": "python",
   "nbconvert_exporter": "python",
   "pygments_lexer": "ipython3",
   "version": "3.12.4"
  }
 },
 "nbformat": 4,
 "nbformat_minor": 5
}
